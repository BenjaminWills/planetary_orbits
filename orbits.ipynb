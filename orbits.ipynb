{
 "cells": [
  {
   "cell_type": "code",
   "execution_count": 3,
   "metadata": {},
   "outputs": [],
   "source": [
    "from orbits.forces import Forces\n",
    "from orbits.planets import Planet\n",
    "from orbits.trajectory import Trajectory\n",
    "\n",
    "import numpy as np"
   ]
  },
  {
   "cell_type": "markdown",
   "metadata": {},
   "source": [
    "# Initialise planets"
   ]
  },
  {
   "cell_type": "code",
   "execution_count": 4,
   "metadata": {},
   "outputs": [],
   "source": [
    "earth = Planet(\n",
    "    name=\"earth\", mass=5.972e24, radius=6371e3, inital_position=np.array([149.6e9, 0]), initial_velocity = np.array([0,29951.68]))\n",
    "\n",
    "sun = Planet(\n",
    "    name=\"sun\", mass=1.989e30, radius=696340e3, inital_position=np.array([0, 0]), initial_velocity = np.array([0,0]))\n",
    "\n",
    "venus = Planet(\n",
    "    name=\"venus\", mass=4.867e24, radius=6051.8e3, inital_position=np.array([107.71e9, 0]), initial_velocity = np.array([0,35021.561]))\n"
   ]
  },
  {
   "cell_type": "markdown",
   "metadata": {},
   "source": [
    "# Initialise Forces"
   ]
  },
  {
   "cell_type": "code",
   "execution_count": 5,
   "metadata": {},
   "outputs": [],
   "source": [
    "system = Forces([sun, earth])"
   ]
  },
  {
   "cell_type": "markdown",
   "metadata": {},
   "source": [
    "# Test"
   ]
  },
  {
   "cell_type": "code",
   "execution_count": 6,
   "metadata": {},
   "outputs": [
    {
     "data": {
      "text/plain": [
       "[array([3.54239608e+22, 0.00000000e+00]),\n",
       " array([-3.54239608e+22,  0.00000000e+00])]"
      ]
     },
     "execution_count": 6,
     "metadata": {},
     "output_type": "execute_result"
    }
   ],
   "source": [
    "system.calculate_total_force()"
   ]
  },
  {
   "cell_type": "code",
   "execution_count": 7,
   "metadata": {},
   "outputs": [
    {
     "data": {
      "text/plain": [
       "array([ 3.54239608e+22, -0.00000000e+00])"
      ]
     },
     "execution_count": 7,
     "metadata": {},
     "output_type": "execute_result"
    }
   ],
   "source": [
    "system.calculate_force(sun,earth)"
   ]
  },
  {
   "cell_type": "markdown",
   "metadata": {},
   "source": [
    "# matplotlib solution"
   ]
  },
  {
   "cell_type": "code",
   "execution_count": 8,
   "metadata": {},
   "outputs": [],
   "source": [
    "import matplotlib.pyplot as plt"
   ]
  },
  {
   "cell_type": "code",
   "execution_count": 9,
   "metadata": {},
   "outputs": [],
   "source": [
    "\n",
    "\n",
    "traj = Trajectory(planets=[sun,venus,earth],start_time=0,end_time=2*60*60*24*365,number_of_steps= 1e6)"
   ]
  },
  {
   "cell_type": "code",
   "execution_count": 10,
   "metadata": {},
   "outputs": [
    {
     "name": "stdout",
     "output_type": "stream",
     "text": [
      "step: 0\n",
      "step: 100,000\n",
      "step: 200,000\n",
      "step: 300,000\n",
      "step: 400,000\n",
      "step: 500,000\n",
      "step: 600,000\n",
      "step: 700,000\n",
      "step: 800,000\n",
      "step: 900,000\n"
     ]
    }
   ],
   "source": [
    "trajectory = traj.calculate_trajectories()"
   ]
  },
  {
   "cell_type": "code",
   "execution_count": 11,
   "metadata": {},
   "outputs": [],
   "source": [
    "x_e,y_e = [],[]\n",
    "\n",
    "for element in trajectory[\"earth\"]:\n",
    "    x_e.append(element[0])\n",
    "    y_e.append(element[1])\n",
    "\n",
    "x_s,y_s = [],[]    \n",
    "for element in trajectory[\"sun\"]:\n",
    "    x_s.append(element[0])\n",
    "    y_s.append(element[1])\n",
    "\n",
    "x_v,y_v = [],[]    \n",
    "for element in trajectory[\"venus\"]:\n",
    "    x_v.append(element[0])\n",
    "    y_v.append(element[1])"
   ]
  },
  {
   "cell_type": "code",
   "execution_count": 13,
   "metadata": {},
   "outputs": [
    {
     "data": {
      "text/plain": [
       "<matplotlib.legend.Legend at 0x289196f10>"
      ]
     },
     "execution_count": 13,
     "metadata": {},
     "output_type": "execute_result"
    },
    {
     "name": "stderr",
     "output_type": "stream",
     "text": [
      "/opt/homebrew/Caskroom/miniforge/base/envs/planet_orbit/lib/python3.9/site-packages/IPython/core/events.py:89: UserWarning: Creating legend with loc=\"best\" can be slow with large amounts of data.\n",
      "  func(*args, **kwargs)\n",
      "/opt/homebrew/Caskroom/miniforge/base/envs/planet_orbit/lib/python3.9/site-packages/IPython/core/pylabtools.py:152: UserWarning: Creating legend with loc=\"best\" can be slow with large amounts of data.\n",
      "  fig.canvas.print_figure(bytes_io, **kw)\n"
     ]
    },
    {
     "data": {
      "image/png": "[encoded data removed]",
      "text/plain": [
       "<Figure size 640x480 with 1 Axes>"
      ]
     },
     "metadata": {},
     "output_type": "display_data"
    }
   ],
   "source": [
    "fig = plt.figure()\n",
    "ax = fig.add_subplot(111)\n",
    "ax.set_aspect('equal')\n",
    "ax.scatter(x_e,y_e,s=.3,label =\"earth\")\n",
    "ax.scatter(x_s,y_s,s=.3,label = \"sun\")\n",
    "ax.scatter(x_v,y_v,s=.3,label = \"venus\")\n",
    "ax.legend()"
   ]
  },
  {
   "cell_type": "code",
   "execution_count": 18,
   "metadata": {},
   "outputs": [],
   "source": [
    "from orbits.plotting import Plotter"
   ]
  },
  {
   "cell_type": "code",
   "execution_count": 19,
   "metadata": {},
   "outputs": [
    {
     "data": {
      "image/png": "[encoded data removed]",
      "text/plain": [
       "<Figure size 640x480 with 1 Axes>"
      ]
     },
     "metadata": {},
     "output_type": "display_data"
    }
   ],
   "source": [
    "plotter = Plotter(trajectory)"
   ]
  },
  {
   "cell_type": "code",
   "execution_count": 20,
   "metadata": {},
   "outputs": [],
   "source": [
    "plotter.plot_orbits()"
   ]
  },
  {
   "cell_type": "code",
   "execution_count": null,
   "metadata": {},
   "outputs": [],
   "source": []
  }
 ],
 "metadata": {
  "kernelspec": {
   "display_name": "Python 3.9.16 ('planet_orbit')",
   "language": "python",
   "name": "python3"
  },
  "language_info": {
   "codemirror_mode": {
    "name": "ipython",
    "version": 3
   },
   "file_extension": ".py",
   "mimetype": "text/x-python",
   "name": "python",
   "nbconvert_exporter": "python",
   "pygments_lexer": "ipython3",
   "version": "3.9.16"
  },
  "orig_nbformat": 4,
  "vscode": {
   "interpreter": {
    "hash": "8302fb342c48418dd621dfcabc50ec6f264fed9708374ebeef5e00f27bf52fb9"
   }
  }
 },
 "nbformat": 4,
 "nbformat_minor": 2
}
